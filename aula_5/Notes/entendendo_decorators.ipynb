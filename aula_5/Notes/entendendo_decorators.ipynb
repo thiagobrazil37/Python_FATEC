{
 "cells": [
  {
   "cell_type": "markdown",
   "id": "091184a2",
   "metadata": {},
   "source": [
    "# DECORATORS\n",
    "\n",
    "* O que são decorators?\n",
    "* Como aplicar decorators?\n",
    "* Decorators como classe\n",
    "* Flask\n"
   ]
  },
  {
   "cell_type": "markdown",
   "id": "f39e820d",
   "metadata": {},
   "source": [
    "Em nível de função lambda f(λ), segue o exemplo:"
   ]
  },
  {
   "cell_type": "code",
   "execution_count": 185,
   "id": "7539290e",
   "metadata": {},
   "outputs": [
    {
     "name": "stdout",
     "output_type": "stream",
     "text": [
      "cavalo\n"
     ]
    }
   ],
   "source": [
    "# Uma função que retorna outra função\n",
    "pegar_cep = lambda: print\n",
    "pegar_cep()('cavalo')  # O pegar_cep é convertido para print()"
   ]
  },
  {
   "cell_type": "markdown",
   "id": "d154131b",
   "metadata": {},
   "source": [
    "### Criando funções"
   ]
  },
  {
   "cell_type": "code",
   "execution_count": 186,
   "id": "086d0ec1",
   "metadata": {},
   "outputs": [],
   "source": [
    "def func():\n",
    "    pass\n"
   ]
  },
  {
   "cell_type": "markdown",
   "id": "5e6cc483",
   "metadata": {},
   "source": [
    "##### * Função que retorna valor "
   ]
  },
  {
   "cell_type": "code",
   "execution_count": 189,
   "id": "e8a161d4",
   "metadata": {},
   "outputs": [
    {
     "data": {
      "text/plain": [
       "'Valor retornado'"
      ]
     },
     "execution_count": 189,
     "metadata": {},
     "output_type": "execute_result"
    }
   ],
   "source": [
    "def retorna_valor():\n",
    "    return \"Valor retornado\"\n",
    "\n",
    "retorna_valor()"
   ]
  },
  {
   "cell_type": "markdown",
   "id": "f73d04a8",
   "metadata": {},
   "source": [
    "#### * Função que recebe e retorna valores\n",
    "\n",
    "* Função com parâmetro(s): Função com variável"
   ]
  },
  {
   "cell_type": "code",
   "execution_count": 192,
   "id": "76b8d165",
   "metadata": {},
   "outputs": [
    {
     "data": {
      "text/plain": [
       "'AAA'"
      ]
     },
     "execution_count": 192,
     "metadata": {},
     "output_type": "execute_result"
    }
   ],
   "source": [
    "def func2(parametro): #parametro -> variável\n",
    "    return parametro * 3\n",
    "\n",
    "func2(\"A\") #argumento -> valor literal"
   ]
  },
  {
   "cell_type": "code",
   "execution_count": 194,
   "id": "bdda5f6d",
   "metadata": {},
   "outputs": [],
   "source": [
    "# Crie uma função que quando chamada e passada um valor inteiro, retorne o mesmo -1.\n",
    "# Se o valor passado for um float trukate 1.2 -> 1\n",
    "# Se o valor passado for texto retorne :)"
   ]
  },
  {
   "cell_type": "code",
   "execution_count": 213,
   "id": "11d94fbb",
   "metadata": {},
   "outputs": [
    {
     "data": {
      "text/plain": [
       "':)'"
      ]
     },
     "execution_count": 213,
     "metadata": {},
     "output_type": "execute_result"
    }
   ],
   "source": [
    "def desafio(parametro):\n",
    "    \n",
    "    if type (parametro) == int:\n",
    "        return parametro -1\n",
    "    elif type (parametro) == float: \n",
    "        return int(parametro)\n",
    "    else:\n",
    "        return \":)\"\n",
    "    \n",
    "desafio(\"a\")    "
   ]
  },
  {
   "cell_type": "code",
   "execution_count": 215,
   "id": "f62ea881",
   "metadata": {},
   "outputs": [],
   "source": [
    "# Crie uma função que retirne 3 valores aleatórios"
   ]
  },
  {
   "cell_type": "code",
   "execution_count": 414,
   "id": "3768f4c5",
   "metadata": {},
   "outputs": [
    {
     "data": {
      "text/plain": [
       "[9, 21, 35, 37, 37, 38]"
      ]
     },
     "execution_count": 414,
     "metadata": {},
     "output_type": "execute_result"
    }
   ],
   "source": [
    "import random\n",
    "\n",
    "def mega_sena():\n",
    "    digitos = []\n",
    "    for i in range (6):\n",
    "        digitos.append(random.randint(1,60))\n",
    "        digitos.sort()\n",
    "    return digitos\n",
    "    \n",
    "mega_sena()"
   ]
  }
 ],
 "metadata": {
  "kernelspec": {
   "display_name": "Python 3 (ipykernel)",
   "language": "python",
   "name": "python3"
  },
  "language_info": {
   "codemirror_mode": {
    "name": "ipython",
    "version": 3
   },
   "file_extension": ".py",
   "mimetype": "text/x-python",
   "name": "python",
   "nbconvert_exporter": "python",
   "pygments_lexer": "ipython3",
   "version": "3.9.7"
  }
 },
 "nbformat": 4,
 "nbformat_minor": 5
}
