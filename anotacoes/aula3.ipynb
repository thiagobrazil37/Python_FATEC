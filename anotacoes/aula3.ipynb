{
 "cells": [
  {
   "cell_type": "code",
   "execution_count": 2,
   "id": "83fc9f8a",
   "metadata": {},
   "outputs": [
    {
     "name": "stdout",
     "output_type": "stream",
     "text": [
      "hello world!\n"
     ]
    }
   ],
   "source": [
    "print(\"hello world!\")"
   ]
  },
  {
   "cell_type": "code",
   "execution_count": 4,
   "id": "40671c13",
   "metadata": {},
   "outputs": [
    {
     "data": {
      "text/plain": [
       "True"
      ]
     },
     "execution_count": 4,
     "metadata": {},
     "output_type": "execute_result"
    }
   ],
   "source": [
    " True"
   ]
  },
  {
   "cell_type": "markdown",
   "id": "23e74139",
   "metadata": {},
   "source": [
    "# Tipos de dados"
   ]
  },
  {
   "cell_type": "markdown",
   "id": "42c30c55",
   "metadata": {},
   "source": [
    "### String"
   ]
  },
  {
   "cell_type": "code",
   "execution_count": 7,
   "id": "64103fe1",
   "metadata": {},
   "outputs": [
    {
     "data": {
      "text/plain": [
       "'esse é um texto do tipo string de aspas triplas duplas.'"
      ]
     },
     "execution_count": 7,
     "metadata": {},
     "output_type": "execute_result"
    }
   ],
   "source": [
    "'esse é um texto do tipo string de aspas simples.'\n",
    "\"esse é um texto do tipo string de asplas duplas.\"\n",
    "'''esse é um texto do tipo string de aspas triplas simples.'''\n",
    "\"\"\"esse é um texto do tipo string de aspas triplas duplas.\"\"\""
   ]
  },
  {
   "cell_type": "markdown",
   "id": "fdb569d2",
   "metadata": {},
   "source": [
    "### Casos especiais das strings"
   ]
  },
  {
   "cell_type": "markdown",
   "id": "8d8fea30",
   "metadata": {},
   "source": [
    "ESCAPE CHARACTER"
   ]
  },
  {
   "cell_type": "code",
   "execution_count": 9,
   "id": "71c184f1",
   "metadata": {},
   "outputs": [
    {
     "data": {
      "text/plain": [
       "'\"don\\'t look at me\"'"
      ]
     },
     "execution_count": 9,
     "metadata": {},
     "output_type": "execute_result"
    }
   ],
   "source": [
    "\"\\\"don't look at me\\\"\" # invisible characters -> \" \\\" Texto \\\" \"       "
   ]
  },
  {
   "cell_type": "code",
   "execution_count": 18,
   "id": "68c09982",
   "metadata": {},
   "outputs": [
    {
     "name": "stdout",
     "output_type": "stream",
     "text": [
      "\"don't look at me\"\n"
     ]
    }
   ],
   "source": [
    "print(\"\\\"don't look at me\\\"\")"
   ]
  },
  {
   "cell_type": "code",
   "execution_count": 19,
   "id": "09486e3b",
   "metadata": {},
   "outputs": [
    {
     "name": "stdout",
     "output_type": "stream",
     "text": [
      "Olá mundo.\n",
      "Meu nome é Thiago\n"
     ]
    }
   ],
   "source": [
    "print(\"Olá mundo.\\nMeu nome é Thiago\")"
   ]
  },
  {
   "cell_type": "markdown",
   "id": "8180d307",
   "metadata": {},
   "source": [
    "## Desafio 1: Em duas linhas imprima boas vindas ao usuário"
   ]
  },
  {
   "cell_type": "code",
   "execution_count": 25,
   "id": "60b57982",
   "metadata": {},
   "outputs": [
    {
     "name": "stdout",
     "output_type": "stream",
     "text": [
      "Digite seu nome e sua idade: Thiago 18\n",
      "Seja bem vindo(a) Thiago!\n",
      "Você tem 18 anos de idade.\n"
     ]
    }
   ],
   "source": [
    "# solução 1\n",
    "\n",
    "entrada_do_usuário = input(\"Digite seu nome e sua idade: \").split()\n",
    "\n",
    "print(f\"Seja bem vindo(a) { entrada_do_usuário[0]}!\\nVocê tem {entrada_do_usuário[1]} anos de idade.\")"
   ]
  },
  {
   "cell_type": "code",
   "execution_count": 41,
   "id": "6929744e",
   "metadata": {},
   "outputs": [
    {
     "name": "stdout",
     "output_type": "stream",
     "text": [
      "Digite seu nome e sua idade: Thiago 18\n",
      "Olá Thiago.\n",
      "Você tem 18 anos.\n"
     ]
    }
   ],
   "source": [
    "# solução 2\n",
    "\n",
    "nome, idade = input(\"Digite seu nome e sua idade: \").split()\n",
    "\n",
    "print(f\"Olá {nome}.\\nVocê tem {idade} anos.\")"
   ]
  },
  {
   "cell_type": "markdown",
   "id": "eace4052",
   "metadata": {},
   "source": [
    "### Split"
   ]
  },
  {
   "cell_type": "code",
   "execution_count": 43,
   "id": "f8efb464",
   "metadata": {},
   "outputs": [
    {
     "data": {
      "text/plain": [
       "['nome', 'idade', 'cpf', 'email', 'telefone']"
      ]
     },
     "execution_count": 43,
     "metadata": {},
     "output_type": "execute_result"
    }
   ],
   "source": [
    "\"nome,idade,cpf,email,telefone\".split(\",\")"
   ]
  },
  {
   "cell_type": "markdown",
   "id": "527675a7",
   "metadata": {},
   "source": [
    "### Manipulando Strings/Texto"
   ]
  },
  {
   "cell_type": "code",
   "execution_count": 46,
   "id": "6f38f53c",
   "metadata": {},
   "outputs": [
    {
     "name": "stdout",
     "output_type": "stream",
     "text": [
      "\n",
      "COD,NOME,SIGLA\n",
      "35,São Paulo, SP\n",
      "41,Paraná, PR\n",
      "42,Santa Catarina, SC\n",
      "43,Rio Grande do Sul, RS\n",
      "50,Mato Grosso do Sul, MS\n",
      "11,Rondônia, RO\n",
      "12,Acre, AC\n",
      "13,Amazonas, AM\n",
      "14,Roraima, RR\n",
      "15,Pará, PA\n",
      "16,Amapá, AP\n",
      "17,Tocantins, TO\n",
      "21,Maranhão, MA\n",
      "24,Rio Grande do Norte, RN\n",
      "25,Paraíba, PB\n",
      "26,Pernambuco, PE\n",
      "27,Alagoas, AL\n",
      "28,Sergipe, SE\n",
      "29,Bahia, BA\n",
      "31,Minas Gerais, MG\n",
      "33,Rio de Janeiro, RJ\n",
      "51,Mato Grosso, MT\n",
      "52,Goiás, GO\n",
      "53,Distrito Federal, DF\n",
      "22,Piauí, PI\n",
      "23,Ceará, CE\n",
      "32,Espírito Santo, ES\n",
      "\n"
     ]
    }
   ],
   "source": [
    "estados = \"\"\"\n",
    "COD,NOME,SIGLA\n",
    "35,São Paulo, SP\n",
    "41,Paraná, PR\n",
    "42,Santa Catarina, SC\n",
    "43,Rio Grande do Sul, RS\n",
    "50,Mato Grosso do Sul, MS\n",
    "11,Rondônia, RO\n",
    "12,Acre, AC\n",
    "13,Amazonas, AM\n",
    "14,Roraima, RR\n",
    "15,Pará, PA\n",
    "16,Amapá, AP\n",
    "17,Tocantins, TO\n",
    "21,Maranhão, MA\n",
    "24,Rio Grande do Norte, RN\n",
    "25,Paraíba, PB\n",
    "26,Pernambuco, PE\n",
    "27,Alagoas, AL\n",
    "28,Sergipe, SE\n",
    "29,Bahia, BA\n",
    "31,Minas Gerais, MG\n",
    "33,Rio de Janeiro, RJ\n",
    "51,Mato Grosso, MT\n",
    "52,Goiás, GO\n",
    "53,Distrito Federal, DF\n",
    "22,Piauí, PI\n",
    "23,Ceará, CE\n",
    "32,Espírito Santo, ES\n",
    "\"\"\"\n",
    "print(estados)"
   ]
  },
  {
   "cell_type": "code",
   "execution_count": 49,
   "id": "fb0fd980",
   "metadata": {},
   "outputs": [
    {
     "data": {
      "text/plain": [
       "['COD,NOME,SIGLA',\n",
       " '35,São',\n",
       " 'Paulo,',\n",
       " 'SP',\n",
       " '41,Paraná,',\n",
       " 'PR',\n",
       " '42,Santa',\n",
       " 'Catarina,',\n",
       " 'SC',\n",
       " '43,Rio',\n",
       " 'Grande',\n",
       " 'do',\n",
       " 'Sul,',\n",
       " 'RS',\n",
       " '50,Mato',\n",
       " 'Grosso',\n",
       " 'do',\n",
       " 'Sul,',\n",
       " 'MS',\n",
       " '11,Rondônia,',\n",
       " 'RO',\n",
       " '12,Acre,',\n",
       " 'AC',\n",
       " '13,Amazonas,',\n",
       " 'AM',\n",
       " '14,Roraima,',\n",
       " 'RR',\n",
       " '15,Pará,',\n",
       " 'PA',\n",
       " '16,Amapá,',\n",
       " 'AP',\n",
       " '17,Tocantins,',\n",
       " 'TO',\n",
       " '21,Maranhão,',\n",
       " 'MA',\n",
       " '24,Rio',\n",
       " 'Grande',\n",
       " 'do',\n",
       " 'Norte,',\n",
       " 'RN',\n",
       " '25,Paraíba,',\n",
       " 'PB',\n",
       " '26,Pernambuco,',\n",
       " 'PE',\n",
       " '27,Alagoas,',\n",
       " 'AL',\n",
       " '28,Sergipe,',\n",
       " 'SE',\n",
       " '29,Bahia,',\n",
       " 'BA',\n",
       " '31,Minas',\n",
       " 'Gerais,',\n",
       " 'MG',\n",
       " '33,Rio',\n",
       " 'de',\n",
       " 'Janeiro,',\n",
       " 'RJ',\n",
       " '51,Mato',\n",
       " 'Grosso,',\n",
       " 'MT',\n",
       " '52,Goiás,',\n",
       " 'GO',\n",
       " '53,Distrito',\n",
       " 'Federal,',\n",
       " 'DF',\n",
       " '22,Piauí,',\n",
       " 'PI',\n",
       " '23,Ceará,',\n",
       " 'CE',\n",
       " '32,Espírito',\n",
       " 'Santo,',\n",
       " 'ES']"
      ]
     },
     "execution_count": 49,
     "metadata": {},
     "output_type": "execute_result"
    }
   ],
   "source": [
    "estados.split()"
   ]
  },
  {
   "cell_type": "code",
   "execution_count": 52,
   "id": "2d23616a",
   "metadata": {},
   "outputs": [
    {
     "data": {
      "text/plain": [
       "['',\n",
       " 'COD,NOME,SIGLA',\n",
       " '35,São Paulo, SP',\n",
       " '41,Paraná, PR',\n",
       " '42,Santa Catarina, SC',\n",
       " '43,Rio Grande do Sul, RS',\n",
       " '50,Mato Grosso do Sul, MS',\n",
       " '11,Rondônia, RO',\n",
       " '12,Acre, AC',\n",
       " '13,Amazonas, AM',\n",
       " '14,Roraima, RR',\n",
       " '15,Pará, PA',\n",
       " '16,Amapá, AP',\n",
       " '17,Tocantins, TO',\n",
       " '21,Maranhão, MA',\n",
       " '24,Rio Grande do Norte, RN',\n",
       " '25,Paraíba, PB',\n",
       " '26,Pernambuco, PE',\n",
       " '27,Alagoas, AL',\n",
       " '28,Sergipe, SE',\n",
       " '29,Bahia, BA',\n",
       " '31,Minas Gerais, MG',\n",
       " '33,Rio de Janeiro, RJ',\n",
       " '51,Mato Grosso, MT',\n",
       " '52,Goiás, GO',\n",
       " '53,Distrito Federal, DF',\n",
       " '22,Piauí, PI',\n",
       " '23,Ceará, CE',\n",
       " '32,Espírito Santo, ES',\n",
       " '']"
      ]
     },
     "execution_count": 52,
     "metadata": {},
     "output_type": "execute_result"
    }
   ],
   "source": [
    "estados.split(\"\\n\")"
   ]
  },
  {
   "cell_type": "code",
   "execution_count": 75,
   "id": "692063d7",
   "metadata": {},
   "outputs": [],
   "source": [
    "alunos = [\n",
    "    \"pablo\",\n",
    "    \"nicolas a.\",\n",
    "    \"raquel\",\n",
    "    \"patrick\",\n",
    "    \"lucas\",\n",
    "    \"rafael\",\n",
    "    \"rodolpho\",\n",
    "    \"natali\",\n",
    "    \"victor\",\n",
    "    \"thiago\",\n",
    "    \"roberval\",\n",
    "    \"vinicius\",\n",
    "    \"marcos\",\n",
    "    \"rodrigo\",\n",
    "    \"renan\",\n",
    "    \"nicolas f.\",\n",
    "    \"thalith\",\n",
    "    \"watuse\",\n",
    "    \"victoria\"\n",
    "]\n"
   ]
  },
  {
   "cell_type": "code",
   "execution_count": 77,
   "id": "e7a20eea",
   "metadata": {},
   "outputs": [
    {
     "data": {
      "text/plain": [
       "'thiago'"
      ]
     },
     "execution_count": 77,
     "metadata": {},
     "output_type": "execute_result"
    }
   ],
   "source": [
    "import random\n",
    "\n",
    "alunos.pop(alunos.index(random.choice(alunos)))"
   ]
  },
  {
   "cell_type": "markdown",
   "id": "56747e9d",
   "metadata": {},
   "source": [
    "# Requisitos para ser um DEV de respeito"
   ]
  },
  {
   "cell_type": "markdown",
   "id": "b4c2df68",
   "metadata": {},
   "source": [
    "* Python: lógica de programação, portifólio, projetos e softwares criados(que resolvam problemas úteis)\n",
    "* Banco de dados: CSV, SQL: Sqlite3, Postgres, MySQL\n",
    "* Bibliotecas: Web (Flask, FastAPI, \"DJANGO eu não recomendo), DS (pandas, numpy, tensor flow, spark)\n",
    "* Processos/programação em nuvem: GCP, AWS, Heroku. (https://www.youtube.com/watch?v=TLRW_xTnQwY&t=1091s)"
   ]
  },
  {
   "cell_type": "markdown",
   "id": "f5c98bf6",
   "metadata": {},
   "source": [
    "### Outros tipos de string/texto"
   ]
  },
  {
   "cell_type": "markdown",
   "id": "a61f69db",
   "metadata": {},
   "source": [
    "* r\"raw string\"  -> texto seco, cru, literal\n",
    "* b\"encoded text\" -> texto binarizado, encodado"
   ]
  },
  {
   "cell_type": "markdown",
   "id": "f96f6618",
   "metadata": {},
   "source": [
    "### Listas - Mutáveis"
   ]
  },
  {
   "cell_type": "code",
   "execution_count": 129,
   "id": "7f4be76f",
   "metadata": {},
   "outputs": [
    {
     "data": {
      "text/plain": [
       "'bergamota'"
      ]
     },
     "execution_count": 129,
     "metadata": {},
     "output_type": "execute_result"
    }
   ],
   "source": [
    "frutas = [\"tomate\",\"maçã\",\"morango\",\"banana\",\"pêra\",\"pêssego\",\"bergamota\"]\n",
    "frutas [-1]"
   ]
  },
  {
   "cell_type": "code",
   "execution_count": 143,
   "id": "9c45ce57",
   "metadata": {},
   "outputs": [
    {
     "name": "stdout",
     "output_type": "stream",
     "text": [
      "Digite seu nome e sobrenome: Thiago Braz\n",
      "TB\n"
     ]
    }
   ],
   "source": [
    "nome, sobrenome = input(\"Digite seu nome e sobrenome: \").split()\n",
    "\n",
    "print(nome[0]+sobrenome[0])"
   ]
  },
  {
   "cell_type": "code",
   "execution_count": 5,
   "id": "3a3233bf",
   "metadata": {},
   "outputs": [
    {
     "name": "stdout",
     "output_type": "stream",
     "text": [
      "Digite seu nome e sobrenome: as as\n",
      "a.a\n"
     ]
    }
   ],
   "source": [
    "nome, sobrenome = input(\"Digite seu nome e sobrenome: \").split()\n",
    "\n",
    "print(nome[0],sobrenome[0],sep = \".\")"
   ]
  },
  {
   "cell_type": "code",
   "execution_count": 3,
   "id": "deb04bd7",
   "metadata": {},
   "outputs": [
    {
     "name": "stdout",
     "output_type": "stream",
     "text": [
      "Digite seu nome e sobrenome: T aA\n",
      "Ta\n"
     ]
    }
   ],
   "source": [
    "nome, sobrenome = input(\"Digite seu nome e sobrenome: \").split()\n",
    "\n",
    "print(f\"{nome[0]}{sobrenome[0]}\")"
   ]
  },
  {
   "cell_type": "markdown",
   "id": "3324eaa4",
   "metadata": {},
   "source": [
    "# Funções"
   ]
  },
  {
   "cell_type": "markdown",
   "id": "bbc06529",
   "metadata": {},
   "source": [
    "### Criando funções próprias"
   ]
  },
  {
   "cell_type": "markdown",
   "id": "c711f26f",
   "metadata": {},
   "source": [
    "* Função dummy"
   ]
  },
  {
   "cell_type": "code",
   "execution_count": 2,
   "id": "573387ef",
   "metadata": {},
   "outputs": [],
   "source": [
    "# criação de função\n",
    "\n",
    "def minha_funcao ():\n",
    "   ... #pass\n",
    "\n",
    "# chamada de função\n",
    "minha_funcao()"
   ]
  },
  {
   "cell_type": "code",
   "execution_count": 7,
   "id": "7b4a8947",
   "metadata": {},
   "outputs": [
    {
     "name": "stdout",
     "output_type": "stream",
     "text": [
      "3\n"
     ]
    }
   ],
   "source": [
    "# parâmetro padrão = variável\n",
    "\n",
    "def func2(parametro1=\"\", parametro2=\"\"):\n",
    "    return  parametro1 + parametro2\n",
    "    \n",
    "valor = func2(1,2)"
   ]
  },
  {
   "cell_type": "code",
   "execution_count": 11,
   "id": "38d09f22",
   "metadata": {},
   "outputs": [
    {
     "name": "stdout",
     "output_type": "stream",
     "text": [
      "3\n"
     ]
    }
   ],
   "source": [
    "# parâmetro obrigatório\n",
    "def func3(parametro1,parametro2):\n",
    "    soma=parametro1+parametro2\n",
    "    return soma\n",
    "\n",
    "valor = func3(2,1)\n",
    "print(valor)"
   ]
  }
 ],
 "metadata": {
  "kernelspec": {
   "display_name": "Python 3 (ipykernel)",
   "language": "python",
   "name": "python3"
  },
  "language_info": {
   "codemirror_mode": {
    "name": "ipython",
    "version": 3
   },
   "file_extension": ".py",
   "mimetype": "text/x-python",
   "name": "python",
   "nbconvert_exporter": "python",
   "pygments_lexer": "ipython3",
   "version": "3.9.6"
  }
 },
 "nbformat": 4,
 "nbformat_minor": 5
}
