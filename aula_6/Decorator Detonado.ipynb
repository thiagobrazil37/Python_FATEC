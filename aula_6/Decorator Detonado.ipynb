{
 "cells": [
  {
   "cell_type": "markdown",
   "id": "a69dbc63",
   "metadata": {},
   "source": [
    "# DECORATORS\n",
    "\n",
    "### Decoradores de função, modificadores de comportamento"
   ]
  },
  {
   "cell_type": "code",
   "execution_count": 5,
   "id": "0ff7f53a",
   "metadata": {},
   "outputs": [
    {
     "data": {
      "text/plain": [
       "<function print>"
      ]
     },
     "execution_count": 5,
     "metadata": {},
     "output_type": "execute_result"
    }
   ],
   "source": [
    "# Em termos de lambda\n",
    "\n",
    "uma_funcao = lambda : print\n",
    "uma_funcao()"
   ]
  },
  {
   "cell_type": "code",
   "execution_count": 11,
   "id": "867a4764",
   "metadata": {},
   "outputs": [
    {
     "data": {
      "text/plain": [
       "<function __main__.funcao_externa.<locals>.funcao_interna()>"
      ]
     },
     "execution_count": 11,
     "metadata": {},
     "output_type": "execute_result"
    }
   ],
   "source": [
    "# Em termos de uma função simples\n",
    "\n",
    "def funcao_externa(func):\n",
    "    def funcao_interna():\n",
    "        # coisas antes\n",
    "        func()\n",
    "        # coisas depois\n",
    "    return funcao_interna\n",
    "funcao_externa(print)"
   ]
  },
  {
   "cell_type": "code",
   "execution_count": 14,
   "id": "9ff8bf48",
   "metadata": {},
   "outputs": [],
   "source": [
    "# Em termos de decorator com a nomeclatura correta\n",
    "import functools\n",
    "from functools import cache\n",
    "\n",
    "@functools.cache\n",
    "@cache\n",
    "def fibonacci():\n",
    "    pass\n",
    "\n",
    "fibonacci()"
   ]
  },
  {
   "cell_type": "markdown",
   "id": "41cf64da",
   "metadata": {},
   "source": [
    "## Criando nosso decorator"
   ]
  },
  {
   "cell_type": "markdown",
   "id": "2eb4ae66",
   "metadata": {},
   "source": [
    "### Criando uma função"
   ]
  },
  {
   "cell_type": "code",
   "execution_count": 23,
   "id": "51e1be84",
   "metadata": {},
   "outputs": [
    {
     "ename": "TypeError",
     "evalue": "unsupported operand type(s) for +: 'int' and 'str'",
     "output_type": "error",
     "traceback": [
      "\u001b[1;31m---------------------------------------------------------------------------\u001b[0m",
      "\u001b[1;31mTypeError\u001b[0m                                 Traceback (most recent call last)",
      "Input \u001b[1;32mIn [23]\u001b[0m, in \u001b[0;36m<cell line: 4>\u001b[1;34m()\u001b[0m\n\u001b[0;32m      1\u001b[0m \u001b[38;5;28;01mdef\u001b[39;00m \u001b[38;5;21mpiscina\u001b[39m(val_1, val_2):\n\u001b[0;32m      2\u001b[0m     \u001b[38;5;28;01mreturn\u001b[39;00m val_1 \u001b[38;5;241m+\u001b[39m val_2\n\u001b[1;32m----> 4\u001b[0m \u001b[43mpiscina\u001b[49m\u001b[43m(\u001b[49m\u001b[38;5;241;43m1\u001b[39;49m\u001b[43m,\u001b[49m\u001b[43m \u001b[49m\u001b[38;5;124;43m\"\u001b[39;49m\u001b[38;5;124;43m2\u001b[39;49m\u001b[38;5;124;43m\"\u001b[39;49m\u001b[43m)\u001b[49m\n",
      "Input \u001b[1;32mIn [23]\u001b[0m, in \u001b[0;36mpiscina\u001b[1;34m(val_1, val_2)\u001b[0m\n\u001b[0;32m      1\u001b[0m \u001b[38;5;28;01mdef\u001b[39;00m \u001b[38;5;21mpiscina\u001b[39m(val_1, val_2):\n\u001b[1;32m----> 2\u001b[0m     \u001b[38;5;28;01mreturn\u001b[39;00m \u001b[43mval_1\u001b[49m\u001b[43m \u001b[49m\u001b[38;5;241;43m+\u001b[39;49m\u001b[43m \u001b[49m\u001b[43mval_2\u001b[49m\n",
      "\u001b[1;31mTypeError\u001b[0m: unsupported operand type(s) for +: 'int' and 'str'"
     ]
    }
   ],
   "source": [
    "def piscina(val_1, val_2):\n",
    "    return val_1 + val_2\n",
    "    \n",
    "piscina(1, \"2\")"
   ]
  },
  {
   "cell_type": "code",
   "execution_count": 28,
   "id": "c57282df",
   "metadata": {},
   "outputs": [
    {
     "data": {
      "text/plain": [
       "\"Operação não suportada: unsupported operand type(s) for +: 'int' and 'str'\""
      ]
     },
     "execution_count": 28,
     "metadata": {},
     "output_type": "execute_result"
    }
   ],
   "source": [
    "# piscina - função que permite usuários utilizarem a piscina, mas identifica o erro caso não seja permitido\n",
    "\n",
    "def piscina(val_1, val_2):\n",
    "    try:\n",
    "        return val_1 + val_2\n",
    "    except Exception as err:\n",
    "        # usuário entrou na piscina\n",
    "        return f\"Operação não suportada: {err}\"\n",
    "    \n",
    "piscina(1, \"2\")"
   ]
  },
  {
   "cell_type": "code",
   "execution_count": 40,
   "id": "4ae8a1af",
   "metadata": {},
   "outputs": [
    {
     "name": "stdout",
     "output_type": "stream",
     "text": [
      "Realizando exame...\n"
     ]
    },
    {
     "ename": "TypeError",
     "evalue": "unsupported operand type(s) for +: 'int' and 'str'",
     "output_type": "error",
     "traceback": [
      "\u001b[1;31m---------------------------------------------------------------------------\u001b[0m",
      "\u001b[1;31mTypeError\u001b[0m                                 Traceback (most recent call last)",
      "Input \u001b[1;32mIn [40]\u001b[0m, in \u001b[0;36m<cell line: 14>\u001b[1;34m()\u001b[0m\n\u001b[0;32m     10\u001b[0m \u001b[38;5;129m@exame\u001b[39m\n\u001b[0;32m     11\u001b[0m \u001b[38;5;28;01mdef\u001b[39;00m \u001b[38;5;21mpaciente\u001b[39m(formulario_preenchido):\n\u001b[0;32m     12\u001b[0m     \u001b[38;5;241m1\u001b[39m \u001b[38;5;241m+\u001b[39m \u001b[38;5;124m\"\u001b[39m\u001b[38;5;124m1\u001b[39m\u001b[38;5;124m\"\u001b[39m\n\u001b[1;32m---> 14\u001b[0m \u001b[43mpaciente\u001b[49m\u001b[43m(\u001b[49m\u001b[38;5;241;43m3\u001b[39;49m\u001b[43m)\u001b[49m\n",
      "Input \u001b[1;32mIn [40]\u001b[0m, in \u001b[0;36mexame.<locals>.medico\u001b[1;34m(formulario)\u001b[0m\n\u001b[0;32m      4\u001b[0m \u001b[38;5;28;01mdef\u001b[39;00m \u001b[38;5;21mmedico\u001b[39m(formulario): \u001b[38;5;66;03m# papéis do exame\u001b[39;00m\n\u001b[0;32m      5\u001b[0m     \u001b[38;5;28mprint\u001b[39m(\u001b[38;5;124m\"\u001b[39m\u001b[38;5;124mRealizando exame...\u001b[39m\u001b[38;5;124m\"\u001b[39m)\n\u001b[1;32m----> 6\u001b[0m     \u001b[43mpaciente\u001b[49m\u001b[43m(\u001b[49m\u001b[43mformulario\u001b[49m\u001b[43m)\u001b[49m\n\u001b[0;32m      7\u001b[0m     \u001b[38;5;28mprint\u001b[39m(\u001b[38;5;124m\"\u001b[39m\u001b[38;5;124mExame realizado\u001b[39m\u001b[38;5;124m\"\u001b[39m)\n",
      "Input \u001b[1;32mIn [40]\u001b[0m, in \u001b[0;36mpaciente\u001b[1;34m(formulario_preenchido)\u001b[0m\n\u001b[0;32m     10\u001b[0m \u001b[38;5;129m@exame\u001b[39m\n\u001b[0;32m     11\u001b[0m \u001b[38;5;28;01mdef\u001b[39;00m \u001b[38;5;21mpaciente\u001b[39m(formulario_preenchido):\n\u001b[1;32m---> 12\u001b[0m     \u001b[38;5;241;43m1\u001b[39;49m\u001b[43m \u001b[49m\u001b[38;5;241;43m+\u001b[39;49m\u001b[43m \u001b[49m\u001b[38;5;124;43m\"\u001b[39;49m\u001b[38;5;124;43m1\u001b[39;49m\u001b[38;5;124;43m\"\u001b[39;49m\n",
      "\u001b[1;31mTypeError\u001b[0m: unsupported operand type(s) for +: 'int' and 'str'"
     ]
    }
   ],
   "source": [
    "# exame - função que verifica se usuário está apto a nadar\n",
    "\n",
    "def exame(paciente):\n",
    "    def medico(formulario): # papéis do exame\n",
    "        print(\"Realizando exame...\")\n",
    "        paciente(formulario)\n",
    "        print(\"Exame realizado\")\n",
    "    return medico\n",
    "\n",
    "@exame\n",
    "def paciente(formulario_preenchido):\n",
    "    1 + \"1\"\n",
    "    \n",
    "paciente(3)"
   ]
  },
  {
   "cell_type": "markdown",
   "id": "a72dd14f",
   "metadata": {},
   "source": [
    "### Entendendo mais sobre funções"
   ]
  },
  {
   "cell_type": "markdown",
   "id": "60ec9e7f",
   "metadata": {},
   "source": [
    "* Função com parâmetro"
   ]
  },
  {
   "cell_type": "code",
   "execution_count": 42,
   "id": "97aeaa83",
   "metadata": {},
   "outputs": [],
   "source": [
    "def func(parametro): # valor rígido --------------> parâmetro = variável\n",
    "    pass"
   ]
  },
  {
   "cell_type": "markdown",
   "id": "b7a6c2e6",
   "metadata": {},
   "source": [
    "* Função sem parâmetro"
   ]
  },
  {
   "cell_type": "code",
   "execution_count": 44,
   "id": "7443fade",
   "metadata": {},
   "outputs": [],
   "source": [
    "def func(): # sem valor\n",
    "    pass"
   ]
  },
  {
   "cell_type": "markdown",
   "id": "86d55add",
   "metadata": {},
   "source": [
    "* Função dinâmica"
   ]
  },
  {
   "cell_type": "code",
   "execution_count": 47,
   "id": "6dcba1aa",
   "metadata": {},
   "outputs": [
    {
     "name": "stdout",
     "output_type": "stream",
     "text": [
      "4\n",
      "1\n",
      "2\n"
     ]
    }
   ],
   "source": [
    "def func(*args):    # desempacotador\n",
    "    for valor in args:\n",
    "        print(valor)\n",
    "        \n",
    "        \n",
    "func(4,1,2)        "
   ]
  },
  {
   "cell_type": "code",
   "execution_count": 54,
   "id": "80dae76b",
   "metadata": {},
   "outputs": [
    {
     "name": "stdout",
     "output_type": "stream",
     "text": [
      "Essa é a chave: Nome\n",
      "E esse é o valor: Cavalo\n"
     ]
    }
   ],
   "source": [
    "def func2(**kwargs):\n",
    "    for chave, valor in kwargs.items():\n",
    "        print(f\"Essa é a chave: {chave}\")\n",
    "        print(f\"E esse é o valor: {valor}\")\n",
    "        \n",
    "func2(Nome =\"Cavalo\")"
   ]
  },
  {
   "cell_type": "code",
   "execution_count": 56,
   "id": "f62833b2",
   "metadata": {},
   "outputs": [
    {
     "name": "stdout",
     "output_type": "stream",
     "text": [
      "Requirement already satisfied: Flask in c:\\users\\fatecsdp-ti\\appdata\\local\\programs\\python\\python39\\lib\\site-packages (2.1.2)\n",
      "Requirement already satisfied: importlib-metadata>=3.6.0 in c:\\users\\fatecsdp-ti\\appdata\\local\\programs\\python\\python39\\lib\\site-packages (from Flask) (4.11.3)\n",
      "Requirement already satisfied: Jinja2>=3.0 in c:\\users\\fatecsdp-ti\\appdata\\local\\programs\\python\\python39\\lib\\site-packages (from Flask) (3.1.1)\n",
      "Requirement already satisfied: click>=8.0 in c:\\users\\fatecsdp-ti\\appdata\\local\\programs\\python\\python39\\lib\\site-packages (from Flask) (8.1.3)\n",
      "Requirement already satisfied: itsdangerous>=2.0 in c:\\users\\fatecsdp-ti\\appdata\\local\\programs\\python\\python39\\lib\\site-packages (from Flask) (2.1.2)\n",
      "Requirement already satisfied: Werkzeug>=2.0 in c:\\users\\fatecsdp-ti\\appdata\\local\\programs\\python\\python39\\lib\\site-packages (from Flask) (2.1.2)\n",
      "Requirement already satisfied: colorama in c:\\users\\fatecsdp-ti\\appdata\\local\\programs\\python\\python39\\lib\\site-packages (from click>=8.0->Flask) (0.4.4)\n",
      "Requirement already satisfied: zipp>=0.5 in c:\\users\\fatecsdp-ti\\appdata\\local\\programs\\python\\python39\\lib\\site-packages (from importlib-metadata>=3.6.0->Flask) (3.8.0)\n",
      "Requirement already satisfied: MarkupSafe>=2.0 in c:\\users\\fatecsdp-ti\\appdata\\local\\programs\\python\\python39\\lib\\site-packages (from Jinja2>=3.0->Flask) (2.1.1)\n"
     ]
    }
   ],
   "source": [
    "!pip install Flask"
   ]
  },
  {
   "cell_type": "code",
   "execution_count": null,
   "id": "168ea0a8",
   "metadata": {},
   "outputs": [],
   "source": []
  }
 ],
 "metadata": {
  "kernelspec": {
   "display_name": "Python 3 (ipykernel)",
   "language": "python",
   "name": "python3"
  },
  "language_info": {
   "codemirror_mode": {
    "name": "ipython",
    "version": 3
   },
   "file_extension": ".py",
   "mimetype": "text/x-python",
   "name": "python",
   "nbconvert_exporter": "python",
   "pygments_lexer": "ipython3",
   "version": "3.9.6"
  }
 },
 "nbformat": 4,
 "nbformat_minor": 5
}
